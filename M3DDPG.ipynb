{
  "nbformat": 4,
  "nbformat_minor": 0,
  "metadata": {
    "colab": {
      "provenance": [],
      "collapsed_sections": [
        "nWwIx_pBjxj4",
        "1i-7LKOgiAE-",
        "vkW5cou3iEGb",
        "aGxlmRpDiHbk",
        "zSFMR3AKiKkK",
        "M5gozwL5iSX3"
      ]
    },
    "kernelspec": {
      "name": "python3",
      "display_name": "Python 3"
    },
    "language_info": {
      "name": "python"
    }
  },
  "cells": [
    {
      "cell_type": "markdown",
      "source": [
        "## Packages"
      ],
      "metadata": {
        "id": "nWwIx_pBjxj4"
      }
    },
    {
      "cell_type": "code",
      "source": [
        "!git clone https://github.com/openai/multiagent-particle-envs && cd multiagent-particle-envs/"
      ],
      "metadata": {
        "colab": {
          "base_uri": "https://localhost:8080/"
        },
        "id": "Sg21K-cfjxN-",
        "outputId": "1f0e92e7-3d45-4e04-ab65-a432ee8dadab"
      },
      "execution_count": 1,
      "outputs": [
        {
          "output_type": "stream",
          "name": "stdout",
          "text": [
            "Cloning into 'multiagent-particle-envs'...\n",
            "remote: Enumerating objects: 281, done.\u001b[K\n",
            "remote: Counting objects: 100% (44/44), done.\u001b[K\n",
            "remote: Compressing objects: 100% (29/29), done.\u001b[K\n",
            "remote: Total 281 (delta 25), reused 26 (delta 15), pack-reused 237\u001b[K\n",
            "Receiving objects: 100% (281/281), 114.38 KiB | 4.77 MiB/s, done.\n",
            "Resolving deltas: 100% (152/152), done.\n"
          ]
        }
      ]
    },
    {
      "cell_type": "code",
      "source": [
        "%cd multiagent-particle-envs/"
      ],
      "metadata": {
        "colab": {
          "base_uri": "https://localhost:8080/"
        },
        "id": "EkNGLO3OkWm2",
        "outputId": "4626c8c3-4ca7-4353-9051-57213dbec489"
      },
      "execution_count": 2,
      "outputs": [
        {
          "output_type": "stream",
          "name": "stdout",
          "text": [
            "/content/multiagent-particle-envs\n"
          ]
        }
      ]
    },
    {
      "cell_type": "code",
      "source": [
        "!pip install -e ."
      ],
      "metadata": {
        "colab": {
          "base_uri": "https://localhost:8080/"
        },
        "id": "loUAz8U4ADmN",
        "outputId": "9e561c25-b790-41bd-9617-bdb8a32f0290"
      },
      "execution_count": 3,
      "outputs": [
        {
          "output_type": "stream",
          "name": "stdout",
          "text": [
            "Obtaining file:///content/multiagent-particle-envs\n",
            "  Preparing metadata (setup.py) ... \u001b[?25l\u001b[?25hdone\n",
            "Requirement already satisfied: gym in /usr/local/lib/python3.10/dist-packages (from multiagent==0.0.1) (0.25.2)\n",
            "Collecting numpy-stl (from multiagent==0.0.1)\n",
            "  Downloading numpy_stl-3.0.1-py3-none-any.whl (19 kB)\n",
            "Requirement already satisfied: numpy>=1.18.0 in /usr/local/lib/python3.10/dist-packages (from gym->multiagent==0.0.1) (1.22.4)\n",
            "Requirement already satisfied: cloudpickle>=1.2.0 in /usr/local/lib/python3.10/dist-packages (from gym->multiagent==0.0.1) (2.2.1)\n",
            "Requirement already satisfied: gym-notices>=0.0.4 in /usr/local/lib/python3.10/dist-packages (from gym->multiagent==0.0.1) (0.0.8)\n",
            "Requirement already satisfied: python-utils>=3.4.5 in /usr/local/lib/python3.10/dist-packages (from numpy-stl->multiagent==0.0.1) (3.7.0)\n",
            "Requirement already satisfied: typing-extensions>3.10.0.2 in /usr/local/lib/python3.10/dist-packages (from python-utils>=3.4.5->numpy-stl->multiagent==0.0.1) (4.6.3)\n",
            "Installing collected packages: numpy-stl, multiagent\n",
            "  Running setup.py develop for multiagent\n",
            "Successfully installed multiagent-0.0.1 numpy-stl-3.0.1\n"
          ]
        }
      ]
    },
    {
      "cell_type": "code",
      "source": [
        "!pip install gym==0.10.5\n",
        "!pip install pyglet==1.3.2"
      ],
      "metadata": {
        "colab": {
          "base_uri": "https://localhost:8080/"
        },
        "id": "zfZgOg1MkXzh",
        "outputId": "a43af6cb-66c4-4c4f-ac0b-036ba955a124"
      },
      "execution_count": 4,
      "outputs": [
        {
          "output_type": "stream",
          "name": "stdout",
          "text": [
            "Collecting gym==0.10.5\n",
            "  Downloading gym-0.10.5.tar.gz (1.5 MB)\n",
            "\u001b[2K     \u001b[90m━━━━━━━━━━━━━━━━━━━━━━━━━━━━━━━━━━━━━━━━\u001b[0m \u001b[32m1.5/1.5 MB\u001b[0m \u001b[31m12.0 MB/s\u001b[0m eta \u001b[36m0:00:00\u001b[0m\n",
            "\u001b[?25h  Preparing metadata (setup.py) ... \u001b[?25l\u001b[?25hdone\n",
            "Requirement already satisfied: numpy>=1.10.4 in /usr/local/lib/python3.10/dist-packages (from gym==0.10.5) (1.22.4)\n",
            "Requirement already satisfied: requests>=2.0 in /usr/local/lib/python3.10/dist-packages (from gym==0.10.5) (2.27.1)\n",
            "Requirement already satisfied: six in /usr/local/lib/python3.10/dist-packages (from gym==0.10.5) (1.16.0)\n",
            "Collecting pyglet>=1.2.0 (from gym==0.10.5)\n",
            "  Downloading pyglet-2.0.8-py3-none-any.whl (853 kB)\n",
            "\u001b[2K     \u001b[90m━━━━━━━━━━━━━━━━━━━━━━━━━━━━━━━━━━━━━━\u001b[0m \u001b[32m853.1/853.1 kB\u001b[0m \u001b[31m23.1 MB/s\u001b[0m eta \u001b[36m0:00:00\u001b[0m\n",
            "\u001b[?25hRequirement already satisfied: urllib3<1.27,>=1.21.1 in /usr/local/lib/python3.10/dist-packages (from requests>=2.0->gym==0.10.5) (1.26.16)\n",
            "Requirement already satisfied: certifi>=2017.4.17 in /usr/local/lib/python3.10/dist-packages (from requests>=2.0->gym==0.10.5) (2023.5.7)\n",
            "Requirement already satisfied: charset-normalizer~=2.0.0 in /usr/local/lib/python3.10/dist-packages (from requests>=2.0->gym==0.10.5) (2.0.12)\n",
            "Requirement already satisfied: idna<4,>=2.5 in /usr/local/lib/python3.10/dist-packages (from requests>=2.0->gym==0.10.5) (3.4)\n",
            "Building wheels for collected packages: gym\n",
            "  Building wheel for gym (setup.py) ... \u001b[?25l\u001b[?25hdone\n",
            "  Created wheel for gym: filename=gym-0.10.5-py3-none-any.whl size=1581280 sha256=f8b983baca057b5d7cecb15041a47112df297ff6b60a986362a91305686804dd\n",
            "  Stored in directory: /root/.cache/pip/wheels/f6/e4/3b/b3b32d8cdedd0e70545cc0a9139f3d66f8fd5d0c95d828d38e\n",
            "Successfully built gym\n",
            "Installing collected packages: pyglet, gym\n",
            "  Attempting uninstall: gym\n",
            "    Found existing installation: gym 0.25.2\n",
            "    Uninstalling gym-0.25.2:\n",
            "      Successfully uninstalled gym-0.25.2\n",
            "Successfully installed gym-0.10.5 pyglet-2.0.8\n",
            "Collecting pyglet==1.3.2\n",
            "  Downloading pyglet-1.3.2-py2.py3-none-any.whl (1.0 MB)\n",
            "\u001b[2K     \u001b[90m━━━━━━━━━━━━━━━━━━━━━━━━━━━━━━━━━━━━━━━━\u001b[0m \u001b[32m1.0/1.0 MB\u001b[0m \u001b[31m13.7 MB/s\u001b[0m eta \u001b[36m0:00:00\u001b[0m\n",
            "\u001b[?25hRequirement already satisfied: future in /usr/local/lib/python3.10/dist-packages (from pyglet==1.3.2) (0.18.3)\n",
            "Installing collected packages: pyglet\n",
            "  Attempting uninstall: pyglet\n",
            "    Found existing installation: pyglet 2.0.8\n",
            "    Uninstalling pyglet-2.0.8:\n",
            "      Successfully uninstalled pyglet-2.0.8\n",
            "Successfully installed pyglet-1.3.2\n"
          ]
        }
      ]
    },
    {
      "cell_type": "markdown",
      "source": [
        "## Libraries"
      ],
      "metadata": {
        "id": "1i-7LKOgiAE-"
      }
    },
    {
      "cell_type": "code",
      "execution_count": 5,
      "metadata": {
        "id": "ZUbV3ZIWf6pN"
      },
      "outputs": [],
      "source": [
        "import random\n",
        "from tqdm import tqdm\n",
        "import torch\n",
        "import torch.nn as nn\n",
        "import torch.nn.functional as F\n",
        "import os\n",
        "import numpy as np\n",
        "import threading\n",
        "import matplotlib.pyplot as plt\n",
        "import inspect\n",
        "import functools"
      ]
    },
    {
      "cell_type": "markdown",
      "source": [
        "## Args"
      ],
      "metadata": {
        "id": "1E9cirJMk8vX"
      }
    },
    {
      "cell_type": "code",
      "source": [
        "class Args:\n",
        "  def __init__(self):\n",
        "    pass"
      ],
      "metadata": {
        "id": "Wp1xCRapk-X3"
      },
      "execution_count": 33,
      "outputs": []
    },
    {
      "cell_type": "markdown",
      "source": [
        "## Environment"
      ],
      "metadata": {
        "id": "vkW5cou3iEGb"
      }
    },
    {
      "cell_type": "code",
      "source": [
        "def make_env(args):\n",
        "    from multiagent.environment import MultiAgentEnv\n",
        "    import multiagent.scenarios as scenarios\n",
        "\n",
        "    # load scenario from script\n",
        "    scenario = scenarios.load(args.scenario_name + \".py\").Scenario()\n",
        "\n",
        "    # create world\n",
        "    world = scenario.make_world()\n",
        "    # create multiagent environment\n",
        "    env = MultiAgentEnv(world, scenario.reset_world, scenario.reward, scenario.observation)\n",
        "    args.n_players = env.n\n",
        "    args.n_agents = env.n - args.num_adversaries\n",
        "    args.obs_shape = [env.observation_space[i].shape[0] for i in range(args.n_agents)]\n",
        "    action_shape = []\n",
        "    for content in env.action_space:\n",
        "        action_shape.append(content.n)\n",
        "    args.action_shape = action_shape[:args.n_agents]\n",
        "    args.high_action = 1\n",
        "    args.low_action = -1\n",
        "    return env, args"
      ],
      "metadata": {
        "id": "G472YcQIhXeA"
      },
      "execution_count": 32,
      "outputs": []
    },
    {
      "cell_type": "markdown",
      "source": [
        "## Replay Buffer"
      ],
      "metadata": {
        "id": "aGxlmRpDiHbk"
      }
    },
    {
      "cell_type": "code",
      "source": [
        "class Buffer:\n",
        "    def __init__(self, args):\n",
        "        self.size = args.buffer_size\n",
        "        self.args = args\n",
        "        # memory management\n",
        "        self.current_size = 0\n",
        "        # create the buffer to store info\n",
        "        self.buffer = dict()\n",
        "        for i in range(self.args.n_agents):\n",
        "            self.buffer['o_%d' % i] = np.empty([self.size, self.args.obs_shape[i]])\n",
        "            self.buffer['u_%d' % i] = np.empty([self.size, self.args.action_shape[i]])\n",
        "            self.buffer['r_%d' % i] = np.empty([self.size])\n",
        "            self.buffer['o_next_%d' % i] = np.empty([self.size, self.args.obs_shape[i]])\n",
        "        # thread lock\n",
        "        self.lock = threading.Lock()\n",
        "\n",
        "    # store the episode\n",
        "    def store_episode(self, o, u, r, o_next):\n",
        "        idxs = self._get_storage_idx(inc=1)\n",
        "        for i in range(self.args.n_agents):\n",
        "            with self.lock:\n",
        "                self.buffer['o_%d' % i][idxs] = o[i]\n",
        "                self.buffer['u_%d' % i][idxs] = u[i]\n",
        "                self.buffer['r_%d' % i][idxs] = r[i]\n",
        "                self.buffer['o_next_%d' % i][idxs] = o_next[i]\n",
        "\n",
        "    # sample the data from the replay buffer\n",
        "    def sample(self, batch_size):\n",
        "        temp_buffer = {}\n",
        "        idx = np.random.randint(0, self.current_size, batch_size)\n",
        "        for key in self.buffer.keys():\n",
        "            temp_buffer[key] = self.buffer[key][idx]\n",
        "        return temp_buffer\n",
        "\n",
        "    def _get_storage_idx(self, inc=None):\n",
        "        inc = inc or 1\n",
        "        if self.current_size+inc <= self.size:\n",
        "            idx = np.arange(self.current_size, self.current_size+inc)\n",
        "        elif self.current_size < self.size:\n",
        "            overflow = inc - (self.size - self.current_size)\n",
        "            idx_a = np.arange(self.current_size, self.size)\n",
        "            idx_b = np.random.randint(0, self.current_size, overflow)\n",
        "            idx = np.concatenate([idx_a, idx_b])\n",
        "        else:\n",
        "            idx = np.random.randint(0, self.size, inc)\n",
        "        self.current_size = min(self.size, self.current_size+inc)\n",
        "        if inc == 1:\n",
        "            idx = idx[0]\n",
        "        return idx"
      ],
      "metadata": {
        "id": "7Rj4MOo3hI6R"
      },
      "execution_count": 34,
      "outputs": []
    },
    {
      "cell_type": "markdown",
      "source": [
        "## Actor & Critic"
      ],
      "metadata": {
        "id": "zSFMR3AKiKkK"
      }
    },
    {
      "cell_type": "code",
      "source": [
        "# define the actor network\n",
        "class Actor(nn.Module):\n",
        "    def __init__(self, args, agent_id):\n",
        "        super(Actor, self).__init__()\n",
        "        self.max_action = args.high_action\n",
        "        self.fc1 = nn.Linear(args.obs_shape[agent_id], 64)\n",
        "        self.fc2 = nn.Linear(64, 64)\n",
        "        self.fc3 = nn.Linear(64, 64)\n",
        "        self.action_out = nn.Linear(64, args.action_shape[agent_id])\n",
        "\n",
        "    def forward(self, x):\n",
        "        x = F.relu(self.fc1(x))\n",
        "        x = F.relu(self.fc2(x))\n",
        "        x = F.relu(self.fc3(x))\n",
        "        actions = self.max_action * torch.tanh(self.action_out(x))\n",
        "\n",
        "        return actions\n",
        "\n",
        "\n",
        "class Critic(nn.Module):\n",
        "    def __init__(self, args):\n",
        "        super(Critic, self).__init__()\n",
        "        self.max_action = args.high_action\n",
        "        self.fc1 = nn.Linear(sum(args.obs_shape) + sum(args.action_shape), 64)\n",
        "        self.fc2 = nn.Linear(64, 64)\n",
        "        self.fc3 = nn.Linear(64, 64)\n",
        "        self.q_out = nn.Linear(64, 1)\n",
        "\n",
        "    def forward(self, state, action):\n",
        "        state = torch.cat(state, dim=1)\n",
        "        for i in range(len(action)):\n",
        "            action[i] /= self.max_action\n",
        "        action = torch.cat(action, dim=1)\n",
        "        x = torch.cat([state, action], dim=1)\n",
        "        x = F.relu(self.fc1(x))\n",
        "        x = F.relu(self.fc2(x))\n",
        "        x = F.relu(self.fc3(x))\n",
        "        q_value = self.q_out(x)\n",
        "        return q_value"
      ],
      "metadata": {
        "id": "kY44rMHBhySE"
      },
      "execution_count": 35,
      "outputs": []
    },
    {
      "cell_type": "markdown",
      "source": [
        "## M3DDPG"
      ],
      "metadata": {
        "id": "I0h7oBR8iOxR"
      }
    },
    {
      "cell_type": "code",
      "source": [
        "class M3DDPG:\n",
        "    def __init__(self, args, agent_id):\n",
        "        self.args = args\n",
        "        self.agent_id = agent_id\n",
        "        self.train_step = 0\n",
        "\n",
        "        # create the network\n",
        "        self.actor_network = Actor(args, agent_id)\n",
        "        self.critic_network = Critic(args)\n",
        "\n",
        "        # build up the target network\n",
        "        self.actor_target_network = Actor(args, agent_id)\n",
        "        self.critic_target_network = Critic(args)\n",
        "\n",
        "        # load the weights into the target networks\n",
        "        self.actor_target_network.load_state_dict(self.actor_network.state_dict())\n",
        "        self.critic_target_network.load_state_dict(self.critic_network.state_dict())\n",
        "\n",
        "        # create the optimizer\n",
        "        self.actor_optim = torch.optim.Adam(self.actor_network.parameters(), lr=self.args.lr_actor)\n",
        "        self.critic_optim = torch.optim.Adam(self.critic_network.parameters(), lr=self.args.lr_critic)\n",
        "\n",
        "    def select_action(self, o, noise_rate):\n",
        "        inputs = torch.tensor(o, dtype=torch.float32).unsqueeze(0)\n",
        "        pi = self.actor_network(inputs).squeeze(0)\n",
        "        u = pi.cpu().numpy()\n",
        "        noise = noise_rate * self.args.high_action * np.random.randn(*u.shape)  # gaussian noise\n",
        "        u += noise\n",
        "        u = np.clip(u, -self.args.high_action, self.args.high_action)\n",
        "        return u\n",
        "\n",
        "    # soft update\n",
        "    def _soft_update_target_network(self):\n",
        "        for target_param, param in zip(self.actor_target_network.parameters(), self.actor_network.parameters()):\n",
        "            target_param.data.copy_((1 - self.args.tau) * target_param.data + self.args.tau * param.data)\n",
        "\n",
        "        for target_param, param in zip(self.critic_target_network.parameters(), self.critic_network.parameters()):\n",
        "            target_param.data.copy_((1 - self.args.tau) * target_param.data + self.args.tau * param.data)\n",
        "\n",
        "    # update the network\n",
        "    def train(self, transitions, other_agents):\n",
        "        for key in transitions.keys():\n",
        "            transitions[key] = torch.tensor(transitions[key], dtype=torch.float32)\n",
        "        r = transitions['r_%d' % self.agent_id]\n",
        "        o, u, o_next = [], [], []\n",
        "        for agent_id in range(self.args.n_agents):\n",
        "            o.append(transitions['o_%d' % agent_id])\n",
        "            u.append(transitions['u_%d' % agent_id])\n",
        "            o_next.append(transitions['o_next_%d' % agent_id])\n",
        "\n",
        "        # calculate the target Q value function\n",
        "        _u_next = []\n",
        "        u_next = []\n",
        "        with torch.no_grad():\n",
        "            index = 0\n",
        "            for agent_id in range(self.args.n_agents):\n",
        "                if agent_id == self.agent_id:\n",
        "                    _u_next.append(self.actor_target_network(o_next[agent_id]))\n",
        "                else:\n",
        "                    _u_next.append(other_agents[index].policy.actor_target_network(o_next[agent_id]))\n",
        "                    index += 1\n",
        "            q_next = self.critic_target_network(o_next, _u_next).detach()\n",
        "\n",
        "            target_q = (r.unsqueeze(1) + self.args.gamma * q_next).detach()\n",
        "\n",
        "            index = 0\n",
        "            for agent_id in range(self.args.n_agents):\n",
        "                if agent_id == self.agent_id:\n",
        "                    u_next.append(self.actor_target_network(o_next[agent_id]))\n",
        "                else:\n",
        "                    u_star = other_agents[index].policy.actor_target_network(o_next[agent_id])\n",
        "                    u_star += self.args.alpha * (target_q - self.critic_network(o, u)).pow(2).mean()\n",
        "                    u_next.append(u_star)\n",
        "                    index += 1\n",
        "            q_next = self.critic_target_network(o_next, u_next).detach()\n",
        "\n",
        "            target_q = (r.unsqueeze(1) + self.args.gamma * q_next).detach()\n",
        "\n",
        "        # the q loss\n",
        "        q_value = self.critic_network(o, u)\n",
        "        critic_loss = (target_q - q_value).pow(2).mean()\n",
        "\n",
        "        # the actor loss\n",
        "        u[self.agent_id] = self.actor_network(o[self.agent_id])\n",
        "        actor_loss = - self.critic_network(o, u).mean()\n",
        "\n",
        "        # update the network\n",
        "        self.actor_optim.zero_grad()\n",
        "        actor_loss.backward()\n",
        "        self.actor_optim.step()\n",
        "        self.critic_optim.zero_grad()\n",
        "        critic_loss.backward()\n",
        "        self.critic_optim.step()\n",
        "\n",
        "        self._soft_update_target_network()\n",
        "        self.train_step += 1"
      ],
      "metadata": {
        "id": "EKJUswvth9IS"
      },
      "execution_count": 50,
      "outputs": []
    },
    {
      "cell_type": "markdown",
      "source": [
        "## Agent"
      ],
      "metadata": {
        "id": "M5gozwL5iSX3"
      }
    },
    {
      "cell_type": "code",
      "source": [
        "class Agent:\n",
        "    def __init__(self, agent_id, args):\n",
        "        self.args = args\n",
        "        self.agent_id = agent_id\n",
        "        self.policy = MADDPG(args, agent_id)\n",
        "\n",
        "    def select_action(self, o, noise_rate, epsilon):\n",
        "        if np.random.uniform() < epsilon:\n",
        "            u = np.random.uniform(-self.args.high_action, self.args.high_action, self.args.action_shape[self.agent_id])\n",
        "        else:\n",
        "            u = self.policy.select_action(o, noise_rate)\n",
        "        return u.copy()\n",
        "\n",
        "    def learn(self, transitions, other_agents):\n",
        "        self.policy.train(transitions, other_agents)\n"
      ],
      "metadata": {
        "id": "2v0iBFrJhmcJ"
      },
      "execution_count": 37,
      "outputs": []
    },
    {
      "cell_type": "markdown",
      "source": [
        "## Runner"
      ],
      "metadata": {
        "id": "m7M6bhJRiUbd"
      }
    },
    {
      "cell_type": "code",
      "source": [
        "class Runner:\n",
        "    def __init__(self, args, env):\n",
        "        self.args = args\n",
        "        self.noise = args.noise_rate\n",
        "        self.epsilon = args.epsilon\n",
        "        self.episode_limit = args.max_episode_len\n",
        "        self.env = env\n",
        "        self.agents = self._init_agents()\n",
        "        self.buffer = Buffer(args)\n",
        "\n",
        "    def _init_agents(self):\n",
        "        agents = []\n",
        "        for i in range(self.args.n_agents):\n",
        "            agent = Agent(i, self.args)\n",
        "            agents.append(agent)\n",
        "        return agents\n",
        "\n",
        "    def run(self):\n",
        "        returns = []\n",
        "        for time_step in tqdm(range(self.args.time_steps)):\n",
        "            # reset the environment\n",
        "            if time_step % self.episode_limit == 0:\n",
        "                s = self.env.reset()\n",
        "            u = []\n",
        "            actions = []\n",
        "            with torch.no_grad():\n",
        "                for agent_id, agent in enumerate(self.agents):\n",
        "                    action = agent.select_action(s[agent_id], self.noise, self.epsilon)\n",
        "                    u.append(action)\n",
        "                    actions.append(action)\n",
        "            for i in range(self.args.n_agents, self.args.n_players):\n",
        "                actions.append([0, np.random.rand() * 2 - 1, 0, np.random.rand() * 2 - 1, 0])\n",
        "            s_next, r, done, info = self.env.step(actions)\n",
        "            self.buffer.store_episode(s[:self.args.n_agents], u, r[:self.args.n_agents], s_next[:self.args.n_agents])\n",
        "            s = s_next\n",
        "            if self.buffer.current_size >= self.args.batch_size:\n",
        "                transitions = self.buffer.sample(self.args.batch_size)\n",
        "                for agent in self.agents:\n",
        "                    other_agents = self.agents.copy()\n",
        "                    other_agents.remove(agent)\n",
        "                    agent.learn(transitions, other_agents)\n",
        "            if time_step > 0 and time_step % self.args.evaluate_rate == 0:\n",
        "                returns.append(self.evaluate())\n",
        "            self.noise = max(0.05, self.noise - 0.0000005)\n",
        "            self.epsilon = max(0.05, self.epsilon - 0.0000005)\n",
        "        return returns\n",
        "\n",
        "    def evaluate(self):\n",
        "        returns = []\n",
        "        for episode in range(self.args.evaluate_episodes):\n",
        "            # reset the environment\n",
        "            s = self.env.reset()\n",
        "            rewards = 0\n",
        "            for time_step in range(self.args.evaluate_episode_len):\n",
        "                actions = []\n",
        "                with torch.no_grad():\n",
        "                    for agent_id, agent in enumerate(self.agents):\n",
        "                        action = agent.select_action(s[agent_id], 0, 0)\n",
        "                        actions.append(action)\n",
        "                for i in range(self.args.n_agents, self.args.n_players):\n",
        "                    actions.append([0, np.random.rand() * 2 - 1, 0, np.random.rand() * 2 - 1, 0])\n",
        "                s_next, r, done, info = self.env.step(actions)\n",
        "                rewards += r[0]\n",
        "                s = s_next\n",
        "            returns.append(rewards)\n",
        "            # print('Returns is', rewards)\n",
        "        return sum(returns) / self.args.evaluate_episodes"
      ],
      "metadata": {
        "id": "B-sMKWWGgUGn"
      },
      "execution_count": 38,
      "outputs": []
    },
    {
      "cell_type": "markdown",
      "source": [
        "## Main Code"
      ],
      "metadata": {
        "id": "HdbrOhAZiY-X"
      }
    },
    {
      "cell_type": "code",
      "source": [
        "args = Args()\n",
        "args.scenario_name=\"simple_tag\"\n",
        "args.noise_rate = 0.1\n",
        "args.epsilon = 0.1\n",
        "args.max_episode_len = 100\n",
        "args.lr_actor = 0.0001\n",
        "args.lr_critic = 0.001\n",
        "args.buffer_size = int(5e5)\n",
        "args.evaluate_episodes = 10\n",
        "args.evaluate_episode_len = 100\n",
        "args.time_steps = 10000\n",
        "args.batch_size = 256\n",
        "args.evaluate_rate = 100\n",
        "args.gamma = 0.95\n",
        "args.tau = 0.01\n",
        "args.alpha = 0.1\n",
        "args.save_rate = 2000\n",
        "args.num_adversaries = 1"
      ],
      "metadata": {
        "id": "rbLUrjrKckTk"
      },
      "execution_count": 69,
      "outputs": []
    },
    {
      "cell_type": "code",
      "source": [
        "env, args = make_env(args)\n",
        "runner = Runner(args, env)\n",
        "returns = runner.run()"
      ],
      "metadata": {
        "colab": {
          "base_uri": "https://localhost:8080/"
        },
        "id": "nBnBls00gGGn",
        "outputId": "308fde2e-39d2-4728-b699-b98d1143407a"
      },
      "execution_count": 70,
      "outputs": [
        {
          "output_type": "stream",
          "name": "stderr",
          "text": [
            "  2%|▏         | 231/10000 [00:03<03:21, 48.45it/s]<ipython-input-50-e35664d7364b>:43: UserWarning: To copy construct from a tensor, it is recommended to use sourceTensor.clone().detach() or sourceTensor.clone().detach().requires_grad_(True), rather than torch.tensor(sourceTensor).\n",
            "  transitions[key] = torch.tensor(transitions[key], dtype=torch.float32)\n",
            "100%|██████████| 10000/10000 [08:39<00:00, 19.25it/s]\n"
          ]
        }
      ]
    },
    {
      "cell_type": "code",
      "source": [
        "smoothed_returns = []\n",
        "window_size = int((args.time_steps/args.evaluate_rate)/2)\n",
        "print(window_size)\n",
        "for i in range(len(returns)):\n",
        "  smoothed_returns.append(np.mean(returns[max(0,i-window_size):i]))\n",
        "plt.plot(smoothed_returns)\n",
        "plt.ylabel(\"Average Returns\")\n",
        "plt.xlabel(\"Episode * 100\")\n",
        "plt.savefig(\"fig.jpg\")"
      ],
      "metadata": {
        "id": "h4QxlSU5Rp8E",
        "colab": {
          "base_uri": "https://localhost:8080/",
          "height": 541
        },
        "outputId": "fd617133-d189-493b-f660-cbeefd4f39ad"
      },
      "execution_count": 71,
      "outputs": [
        {
          "output_type": "stream",
          "name": "stderr",
          "text": [
            "/usr/local/lib/python3.10/dist-packages/numpy/core/fromnumeric.py:3474: RuntimeWarning: Mean of empty slice.\n",
            "  return _methods._mean(a, axis=axis, dtype=dtype,\n",
            "/usr/local/lib/python3.10/dist-packages/numpy/core/_methods.py:189: RuntimeWarning: invalid value encountered in double_scalars\n",
            "  ret = ret.dtype.type(ret / rcount)\n"
          ]
        },
        {
          "output_type": "stream",
          "name": "stdout",
          "text": [
            "50\n"
          ]
        },
        {
          "output_type": "display_data",
          "data": {
            "text/plain": [
              "<Figure size 640x480 with 1 Axes>"
            ],
            "image/png": "[encoded data removed]"
          },
          "metadata": {}
        }
      ]
    },
    {
      "cell_type": "code",
      "source": [],
      "metadata": {
        "id": "o4AtTVaOR6tQ"
      },
      "execution_count": null,
      "outputs": []
    }
  ]
}